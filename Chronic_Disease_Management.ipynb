
{
  "cells": [
    {
      "cell_type": "markdown",
      "metadata": {},
      "source": [
        "# Chronic Disease Management System\n",
        "This project analyzes chronic disease data from CDC and WHO to provide insights into disease trends and patient outcomes.\n",
        "The notebook covers data ingestion, preprocessing, analysis, visualization, and automation processes."
      ]
    },
    {
      "cell_type": "code",
      "execution_count": 1,
      "metadata": {},
      "outputs": [],
      "source": [
        "# Import Libraries\n",
        "import pandas as pd\n",
        "import numpy as np\n",
        "import matplotlib.pyplot as plt\n",
        "import seaborn as sns\n",
        "from sklearn.model_selection import train_test_split\n",
        "from sklearn.ensemble import RandomForestClassifier\n",
        "from sklearn.metrics import classification_report, confusion_matrix\n",
        "import plotly.express as px"
      ]
    },
    {
      "cell_type": "markdown",
      "metadata": {},
      "source": [
        "## Data Ingestion"
      ]
    },
    {
      "cell_type": "code",
      "execution_count": 2,
      "metadata": {},
      "outputs": [],
      "source": [
        "# Load CDC and WHO datasets\n",
        "cdc_data = pd.read_csv('CDC_Chronic_Disease_Data_Large.csv')\n",
        "who_data = pd.read_csv('WHO_Chronic_Disease_Data_Large.csv')\n",
        "\n",
        "# Display first few rows\n",
        "cdc_data.head(), who_data.head()"
      ]
    },
    {
      "cell_type": "markdown",
      "metadata": {},
      "source": [
        "## Data Preprocessing"
      ]
    },
    {
      "cell_type": "code",
      "execution_count": 3,
      "metadata": {},
      "outputs": [],
      "source": [
        "# Handle missing values\n",
        "cdc_data.fillna(method='ffill', inplace=True)\n",
        "who_data.fillna(method='bfill', inplace=True)\n",
        "\n",
        "# Feature engineering\n",
        "cdc_data['Risk_Score'] = cdc_data['Blood_Pressure'] * 0.3 + cdc_data['Blood_Glucose'] * 0.4 + cdc_data['Cholesterol'] * 0.3\n",
        "who_data['Health_Index'] = who_data['BMI'] * 0.5 + who_data['Physical_Activity (hrs/week)'] * 0.4 - who_data['Mortality_Risk (%)'] * 0.6"
      ]
    },
    {
      "cell_type": "markdown",
      "metadata": {},
      "source": [
        "## Data Analysis and Visualization"
      ]
    },
    {
      "cell_type": "code",
      "execution_count": 4,
      "metadata": {},
      "outputs": [],
      "source": [
        "# Visualize distribution of diseases\n",
        "plt.figure(figsize=(12, 6))\n",
        "sns.countplot(x='Disease', data=cdc_data, palette='coolwarm')\n",
        "plt.title('Distribution of Diseases in CDC Dataset')\n",
        "plt.show()\n",
        "\n",
        "# Plotly visualization for WHO Data\n",
        "fig = px.scatter(who_data, x='BMI', y='Mortality_Risk (%)', color='Country', size='Physical_Activity (hrs/week)', title='WHO Health Data Analysis')\n",
        "fig.show()"
      ]
    },
    {
      "cell_type": "markdown",
      "metadata": {},
      "source": [
        "## Machine Learning for Prediction"
      ]
    },
    {
      "cell_type": "code",
      "execution_count": 5,
      "metadata": {},
      "outputs": [],
      "source": [
        "# Prepare data for ML\n",
        "X = cdc_data[['Age', 'Blood_Pressure', 'Blood_Glucose', 'Cholesterol']]\n",
        "y = cdc_data['Disease']\n",
        "X_train, X_test, y_train, y_test = train_test_split(X, y, test_size=0.3, random_state=42)\n",
        "\n",
        "# Train model\n",
        "model = RandomForestClassifier(n_estimators=100)\n",
        "model.fit(X_train, y_train)\n",
        "y_pred = model.predict(X_test)\n",
        "\n",
        "# Evaluate\n",
        "print(confusion_matrix(y_test, y_pred))\n",
        "print(classification_report(y_test, y_pred))"
      ]
    },
    {
      "cell_type": "markdown",
      "metadata": {},
      "source": [
        "## Automating Deployment (CI/CD)"
      ]
    },
    {
      "cell_type": "code",
      "execution_count": 6,
      "metadata": {},
      "outputs": [],
      "source": [
        "# Simulate CI/CD pipeline trigger\n",
        "def deploy_model():\n",
        "    print('Model Deployed Successfully!')\n",
        "\n",
        "# Automate testing\n",
        "if classification_report(y_test, y_pred):\n",
        "    deploy_model()"
      ]
    }
  ],
  "metadata": {
    "kernelspec": {
      "display_name": "Python 3",
      "language": "python",
      "name": "python3"
    },
    "language_info": {
      "codemirror_mode": {
        "name": "ipython",
        "version": 3
      },
      "file_extension": ".py",
      "mimetype": "text/x-python",
      "name": "python",
      "nbconvert_exporter": "python",
      "pygments_lexer": "ipython3",
      "version": "3.8.8"
    }
  },
  "nbformat": 4,
  "nbformat_minor": 5
}
